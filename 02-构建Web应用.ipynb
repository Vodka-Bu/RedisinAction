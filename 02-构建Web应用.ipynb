{
 "cells": [
  {
   "cell_type": "markdown",
   "metadata": {},
   "source": [
    "主要讲解的是如何使用Redis查询来代替传统关系数据库查询，以及如何使用redis来完成一些关系数据库没办法完成的任务"
   ]
  },
  {
   "cell_type": "markdown",
   "metadata": {},
   "source": [
    "# 登录和Cookie缓存\n",
    "* 签名Cookie：所有验证需要的信息都放在Cookie里，并且会有一段签名来验证数据是否改动\n",
    "* 令牌Cookie：相关的内容存储在后台数据库  \n",
    "应对负载量大的问题，需要使用Redis重新实现登录cookie功能，取代目前由关系型数据库实现的登录cookie功能"
   ]
  },
  {
   "cell_type": "code",
   "execution_count": 1,
   "metadata": {
    "collapsed": true
   },
   "outputs": [],
   "source": [
    "import time\n",
    "import redis\n",
    "import json\n",
    "conn = redis.Redis()"
   ]
  },
  {
   "cell_type": "code",
   "execution_count": 2,
   "metadata": {
    "collapsed": true
   },
   "outputs": [],
   "source": [
    "# 创造一个散列用来存储已经登录的客户以及其cookie\n",
    "# 如果存在，返回用户id，如果不存在，返回None\n",
    "def check_token(conn, token):\n",
    "    return conn.hget('login:', token)"
   ]
  },
  {
   "cell_type": "code",
   "execution_count": 3,
   "metadata": {
    "collapsed": true
   },
   "outputs": [],
   "source": [
    "# 更新令牌，将某一个token赋予某一个user，将token放入有序集合，如果item非None，也会被放入一个有序集合\n",
    "def update_token(conn, token, user, item=None):\n",
    "    timestamp = time.time()\n",
    "    conn.hset('login:', token, user)\n",
    "    conn.zadd('recent:', token, timestamp)\n",
    "    if item:\n",
    "        # 通过token来记录浏览过的商品\n",
    "        conn.zadd('viewed:' + token, item, timestamp)\n",
    "        # 有序集合是从小到大排列的，所以从0开始删除到倒数第26位，就剩下了25个\n",
    "        conn.zremrangebyrank('viewed:' + token, 0, -26)"
   ]
  },
  {
   "cell_type": "markdown",
   "metadata": {},
   "source": [
    "因为存储会话数据会随着时间的推移而不断的增加，因此我们需要定期清理旧的会话数据  \n",
    "清理旧的会话程序由一个循环构成，会检查每个存储令牌有序集合的大小，如果超过阈值，会删除最旧的100个  \n",
    "如果未超过限制，程序会先休眠1秒，然后再重新检查"
   ]
  },
  {
   "cell_type": "code",
   "execution_count": 4,
   "metadata": {
    "collapsed": true
   },
   "outputs": [],
   "source": [
    "QUIT = False\n",
    "LIMIT = 100000\n",
    "def clean_session(conn):\n",
    "    while not QUIT:\n",
    "        size = conn.zcard('recent:')\n",
    "        if size <= LIMIT:\n",
    "            time.sleep(1)\n",
    "            continue\n",
    "        \n",
    "        end_index = min(size - LIMIT, 100)\n",
    "        # 从低到高排序的\n",
    "        tokens = conn.zrange('recent:', 0, end_index - 1)\n",
    "        \n",
    "        session_keys = []\n",
    "        for token in tokens:\n",
    "            # 所谓的session，就是所有商品浏览记录\n",
    "            session_keys.append('viewed:' + token)\n",
    "        \n",
    "        # 批量删除所有浏览记录\n",
    "        conn.delete(*session_keys)\n",
    "        # 批量删除登录记录\n",
    "        conn.hdel('login:', *tokens)\n",
    "        # 批量删除总历史记录\n",
    "        conn.zrem('recent:', *tokens)"
   ]
  },
  {
   "cell_type": "markdown",
   "metadata": {},
   "source": [
    "类似以上的清理函数，可以用cronjob的形式，也可以用守护进程的形式"
   ]
  },
  {
   "cell_type": "markdown",
   "metadata": {},
   "source": [
    "# 使用Redis实现购物车"
   ]
  },
  {
   "cell_type": "markdown",
   "metadata": {},
   "source": [
    "最早是使用cookie实现购物车的，也就是会把购物车内的信息全部放在cookie里，虽然这样的设计能够避免数据库写入，但是如果购物车的内容多了，请求发送和处理的时间就会增加。  \n",
    "每个用户的购物车都是一个散列，存储了商品ID和商品订购数量之间的映射"
   ]
  },
  {
   "cell_type": "code",
   "execution_count": 5,
   "metadata": {
    "collapsed": true
   },
   "outputs": [],
   "source": [
    "# 往购物车中加入物品\n",
    "def add_to_cart(conn, session, item, count):\n",
    "    if count <= 0:\n",
    "        conn.hrem('cart:' + session, item)\n",
    "    else:\n",
    "        conn.hset('cart:' + session, item, count)"
   ]
  },
  {
   "cell_type": "markdown",
   "metadata": {},
   "source": [
    "因为有了购物车的概念，所以在会话清理的时候，将就会话对应的购物车一并删除也是有必要的"
   ]
  },
  {
   "cell_type": "code",
   "execution_count": 6,
   "metadata": {
    "collapsed": true
   },
   "outputs": [],
   "source": [
    "QUIT = False\n",
    "LIMIT = 100000\n",
    "def clean_full_session(conn):\n",
    "    while not QUIT:\n",
    "        size = conn.zcard('recent:')\n",
    "        if size <= LIMIT:\n",
    "            time.sleep(1)\n",
    "            continue\n",
    "        \n",
    "        end_index = min(size - LIMIT, 100)\n",
    "        # 从低到高排序的\n",
    "        sessions = conn.zrange('recent:', 0, end_index - 1)\n",
    "        \n",
    "        session_keys = []\n",
    "        for sess in sessions:\n",
    "            # 所谓的session，就是所有商品浏览记录\n",
    "            session_keys.append('viewed:' + sess)\n",
    "            session_keys.append('cart:' + sess)\n",
    "        \n",
    "        # 批量删除所有浏览记录\n",
    "        conn.delete(*session_keys)\n",
    "        # 批量删除登录记录\n",
    "        conn.hdel('login:', *tokens)\n",
    "        # 批量删除总历史记录\n",
    "        conn.zrem('recent:', *tokens)"
   ]
  },
  {
   "cell_type": "markdown",
   "metadata": {},
   "source": [
    "# 网页缓存"
   ]
  },
  {
   "cell_type": "markdown",
   "metadata": {},
   "source": [
    "如果缓存页面不存在，函数会生成页面并且将其缓存在redis中5分钟"
   ]
  },
  {
   "cell_type": "code",
   "execution_count": 7,
   "metadata": {
    "collapsed": true
   },
   "outputs": [],
   "source": [
    "def cache_request(conn, request, callback):\n",
    "    if not can_cache(conn, request):\n",
    "        return callback(request)\n",
    "    \n",
    "    page_key = 'cache:' + hash_request(request)\n",
    "    content = conn.get(page_key)\n",
    "    if not content:\n",
    "        content = callback(request)\n",
    "        # 直接限制好了expire的时间\n",
    "        conn.setex(page_key, content, 300)\n",
    "    return content"
   ]
  },
  {
   "cell_type": "markdown",
   "metadata": {},
   "source": [
    "# 数据行缓存\n",
    "\n",
    "用来应付大量请求同时访问同一数据的情况  \n",
    "需要两个有序集合，key都是数据行id，一个用来记录延迟时间，一个用来记录调度时间，延迟时间记录应该可以仅仅是个散列   \n",
    "在处理一条数据的时候，守护进程先看是否到了调度时间，如果到了，得到数据，并且根据延迟时间将调度任务放入调度集合"
   ]
  },
  {
   "cell_type": "code",
   "execution_count": 8,
   "metadata": {
    "collapsed": true
   },
   "outputs": [],
   "source": [
    "# 调度数据行缓存\n",
    "# 仅仅是一个启动器，后续的循环调度有守护进程自己实现\n",
    "def schedule_row_cache(conn, row_id, delay):\n",
    "    conn.zadd('delay:', row_id, delay)\n",
    "    conn.zadd('schedule', row_id, time.time())"
   ]
  },
  {
   "cell_type": "code",
   "execution_count": 9,
   "metadata": {
    "collapsed": true
   },
   "outputs": [],
   "source": [
    "# 守护进程\n",
    "def cache_rows(conn):\n",
    "    while not QUIT:\n",
    "        next = conn.zrange('schedule:', 0, 0, withscores=True)\n",
    "        now = time.time()\n",
    "        if not next or next[0][1] > now:\n",
    "            time.sleep(0.05)\n",
    "            continue\n",
    "            \n",
    "        row_id = next[0][0]\n",
    "        \n",
    "        # 获得延迟值\n",
    "        delay = conn.zscore('delay:', row_id)\n",
    "        if delay <= 0:\n",
    "            conn.zrem('delay:', row_id)\n",
    "            conn.zrem('schedule:', row_id)\n",
    "            conn.delete('inv:' + row_id)\n",
    "        \n",
    "        # 用来表示从数据库中获得相关数据\n",
    "        row = Inventory.get(row_id)\n",
    "        conn.zadd('schedule:', row_id, now + delay)\n",
    "        conn.set('inv:' + row_id, json.dumps(row.to_dict()))"
   ]
  },
  {
   "cell_type": "markdown",
   "metadata": {},
   "source": [
    "由此可以不断的更新数据行的值，保证其一定存在，但就一定要做一套守护进程，由守护进程对这些数据进行维护"
   ]
  },
  {
   "cell_type": "markdown",
   "metadata": {},
   "source": [
    "# 网页分析\n",
    "并不是所有网页都需要缓存，可以选择最流行的页面进行缓存  \n",
    "要实现最受欢迎的页面/商品的排行，只要在 update_token 页面加一个计数器就可以了"
   ]
  },
  {
   "cell_type": "code",
   "execution_count": 10,
   "metadata": {
    "collapsed": true
   },
   "outputs": [],
   "source": [
    "def update_token(conn, token, user, item=None):\n",
    "    timestamp = time.time()\n",
    "    conn.hset('login:', token, user)\n",
    "    conn.zadd('recent:', token, timestamp)\n",
    "    if item:\n",
    "        # 通过token来记录浏览过的商品\n",
    "        conn.zadd('viewed:' + token, item, timestamp)\n",
    "        # 有序集合是从小到大排列的，所以从0开始删除到倒数第26位，就剩下了25个\n",
    "        conn.zremrangebyrank('viewed:' + token, 0, -26)\n",
    "        # 因为有序集合是从小到大排序，所以最流行的数值应该越小\n",
    "        conn.zincrby('viewed:', itemm, -1)"
   ]
  },
  {
   "cell_type": "markdown",
   "metadata": {},
   "source": [
    "需要定期修剪有序集合的长度并调整已有元素的分值（不然历史的商品有可能会长期霸占）  \n",
    "调整分值的动作可以通过zinterstore的方式得到  \n",
    "同样需要守护进程 "
   ]
  },
  {
   "cell_type": "code",
   "execution_count": 11,
   "metadata": {
    "collapsed": true
   },
   "outputs": [],
   "source": [
    "def rescale_viewed(conn):\n",
    "    while not QUIT:\n",
    "        conn.zremrangebyrank('viewed:', 0, -20001)\n",
    "        # 得到的数字传给原值，同时 {} 的用法代表了对这个集合的所有数值赋予一个权重\n",
    "        conn.zinterstore('viewed:', {'viewed:', 0.5})\n",
    "        time.sleep(300)"
   ]
  },
  {
   "cell_type": "code",
   "execution_count": 12,
   "metadata": {
    "collapsed": true
   },
   "outputs": [],
   "source": [
    "# 重写can_cache,来确定是否需要被缓存\n",
    "def can_cache(conn, request):\n",
    "    item_id = extract_item_id(request)\n",
    "    if not item_id or is_dynamic(request):\n",
    "        return False\n",
    "    rank = conn.zrank('viewed:', item_id)\n",
    "    return rank is not None and rank < 10000"
   ]
  }
 ],
 "metadata": {
  "kernelspec": {
   "display_name": "Python 3",
   "language": "python",
   "name": "python3"
  },
  "language_info": {
   "codemirror_mode": {
    "name": "ipython",
    "version": 3
   },
   "file_extension": ".py",
   "mimetype": "text/x-python",
   "name": "python",
   "nbconvert_exporter": "python",
   "pygments_lexer": "ipython3",
   "version": "3.6.7"
  },
  "toc": {
   "nav_menu": {},
   "number_sections": false,
   "sideBar": true,
   "skip_h1_title": false,
   "toc_cell": false,
   "toc_position": {},
   "toc_section_display": "block",
   "toc_window_display": false
  },
  "varInspector": {
   "cols": {
    "lenName": 16,
    "lenType": 16,
    "lenVar": 40
   },
   "kernels_config": {
    "python": {
     "delete_cmd_postfix": "",
     "delete_cmd_prefix": "del ",
     "library": "var_list.py",
     "varRefreshCmd": "print(var_dic_list())"
    },
    "r": {
     "delete_cmd_postfix": ") ",
     "delete_cmd_prefix": "rm(",
     "library": "var_list.r",
     "varRefreshCmd": "cat(var_dic_list()) "
    }
   },
   "types_to_exclude": [
    "module",
    "function",
    "builtin_function_or_method",
    "instance",
    "_Feature"
   ],
   "window_display": false
  }
 },
 "nbformat": 4,
 "nbformat_minor": 2
}
