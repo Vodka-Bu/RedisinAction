{
 "cells": [
  {
   "cell_type": "markdown",
   "metadata": {},
   "source": [
    "# 持久化选项\n",
    "通过两种持久化方法：\n",
    "* 快照\n",
    "* 只追加文件 AOF append only file"
   ]
  },
  {
   "cell_type": "markdown",
   "metadata": {},
   "source": [
    "## 快照持久化"
   ]
  },
  {
   "cell_type": "markdown",
   "metadata": {},
   "source": [
    "### 创建快照的几种方法\n",
    "* 客户端可以通过向redis发送BGSAVE命令来创建一个快照，此时会fork一个子进程来做存储的动作\n",
    "* SAVE 不会用子进程，因此会使客户端不再相应命令，一般不常用，除非内存不够用\n",
    "* 设置 save 配置选项: save 60 10000 指的是 当60秒内有10000次写入时，执行以下BGSAVE\n",
    "* SHUTDOWN 会执行SAVE\n",
    "* 当一个redis服务器连接另一个redis服务器，并向对方发送SYNC"
   ]
  },
  {
   "cell_type": "markdown",
   "metadata": {},
   "source": [
    "### 几个适合快照的场景\n",
    "* 个人开发\n",
    "    * 例如设置 900 1 指的是900秒内如果有1条数据，则保存快照，如果没有，则在900秒后有一条数据进来就保存快照\n",
    "* 对日志进行聚合计算\n",
    "    * 首先确定日志丢失的可容忍程度，来决定存储快照的时间间隔\n",
    "    * 需要恢复日志处理操作，知道存储快照时处理到了什么时候进度，此时需要知道被处理的文件和偏移量"
   ]
  },
  {
   "cell_type": "code",
   "execution_count": 1,
   "metadata": {
    "collapsed": true
   },
   "outputs": [],
   "source": [
    "import os\n",
    "import redis\n",
    "conn = redis.Redis()"
   ]
  },
  {
   "cell_type": "code",
   "execution_count": 3,
   "metadata": {
    "collapsed": true
   },
   "outputs": [],
   "source": [
    "def process_logs(conn, path, callback):\n",
    "    # 获得当前的文档和offset\n",
    "    current_file, offset = conn.mget('progress:file', 'progress:position')\n",
    "    pipe = conn.pipeline()\n",
    "    def update_progress():\n",
    "        pipe.mset({\n",
    "            'progress:file': fname,\n",
    "            'progress:position': offset\n",
    "        })\n",
    "        pipe.execute()\n",
    "    \n",
    "    for fname in sorted(os.listdir(path)):\n",
    "        if fname < current_file:\n",
    "            continue\n",
    "        with open(os.path.join(path, fname), 'rb') as inp:\n",
    "            # 当是本文件，则从offset开始，否则从0开始\n",
    "            if fname == current_file:\n",
    "                inp.seek(int(offset, 10))\n",
    "            else:\n",
    "                offset = 0\n",
    "            current_file = None\n",
    "            for lno, line in enumerate(inp):\n",
    "                callback(pipe, line)\n",
    "                # offset指的是字符串的长度\n",
    "                offset += int(offset) + len(line)\n",
    "                if not (lno + 1) % 1000:\n",
    "                    # 每1000行更新一下进度\n",
    "                    update_grogress()\n",
    "            update_progress()\n",
    "            "
   ]
  },
  {
   "cell_type": "markdown",
   "metadata": {},
   "source": [
    "### 大数据时\n",
    "当数据量很大时，光创建子进程可能就要花去好多时间，如果内存不够用，可以选择关掉自动存快照，通过手动在不常用时间段 SAVE 的形式存储"
   ]
  },
  {
   "cell_type": "markdown",
   "metadata": {},
   "source": [
    "## AOF持久化"
   ]
  },
  {
   "cell_type": "markdown",
   "metadata": {},
   "source": [
    "* appendfsync: [always, everysec, no] 一般只推荐 everysec  \n",
    "* AOF的问题就是，文件体积的大小，以及执行起来耗时间\n",
    "    * 可以通过 BGREWRITEAOF 方法来去除冗余的命令\n",
    "* 配置属性：auto-aof-rewrite-percentage / auto-aof-rewrite-min-size"
   ]
  },
  {
   "cell_type": "markdown",
   "metadata": {},
   "source": [
    "# 复制"
   ]
  },
  {
   "cell_type": "markdown",
   "metadata": {},
   "source": [
    "数据副本服务器处理客户端发送的读请求  \n",
    "还需要检验硬盘写入"
   ]
  },
  {
   "cell_type": "markdown",
   "metadata": {},
   "source": [
    "# 处理系统故障"
   ]
  },
  {
   "cell_type": "markdown",
   "metadata": {},
   "source": [
    "* 验证快照和\n",
    "* 主从切换/替换"
   ]
  },
  {
   "cell_type": "code",
   "execution_count": null,
   "metadata": {
    "collapsed": true
   },
   "outputs": [],
   "source": []
  }
 ],
 "metadata": {
  "kernelspec": {
   "display_name": "Python 3",
   "language": "python",
   "name": "python3"
  },
  "language_info": {
   "codemirror_mode": {
    "name": "ipython",
    "version": 3
   },
   "file_extension": ".py",
   "mimetype": "text/x-python",
   "name": "python",
   "nbconvert_exporter": "python",
   "pygments_lexer": "ipython3",
   "version": "3.6.7"
  },
  "toc": {
   "nav_menu": {},
   "number_sections": false,
   "sideBar": true,
   "skip_h1_title": false,
   "toc_cell": false,
   "toc_position": {},
   "toc_section_display": "block",
   "toc_window_display": false
  },
  "varInspector": {
   "cols": {
    "lenName": 16,
    "lenType": 16,
    "lenVar": 40
   },
   "kernels_config": {
    "python": {
     "delete_cmd_postfix": "",
     "delete_cmd_prefix": "del ",
     "library": "var_list.py",
     "varRefreshCmd": "print(var_dic_list())"
    },
    "r": {
     "delete_cmd_postfix": ") ",
     "delete_cmd_prefix": "rm(",
     "library": "var_list.r",
     "varRefreshCmd": "cat(var_dic_list()) "
    }
   },
   "types_to_exclude": [
    "module",
    "function",
    "builtin_function_or_method",
    "instance",
    "_Feature"
   ],
   "window_display": false
  }
 },
 "nbformat": 4,
 "nbformat_minor": 2
}
