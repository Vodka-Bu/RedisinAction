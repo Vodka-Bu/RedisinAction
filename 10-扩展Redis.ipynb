{
 "cells": [
  {
   "cell_type": "markdown",
   "metadata": {},
   "source": [
    "# 扩展读性能"
   ]
  },
  {
   "cell_type": "markdown",
   "metadata": {},
   "source": [
    "## 提升性能的几个途径\n",
    "* 短结构，降低内存\n",
    "* 数据结构:用列表还是集合，用散列还是有序集合\n",
    "* 对大体积的对象缓存进Redis时，采用合适的压缩算法\n",
    "* 使用流水线和连接池\n",
    "## 添加只读从服务器\n",
    "* 但是一个主服务器也不能带有太多从服务器，因为主服务器需要发送快照信息给从服务器，如果从服务器太多，会影响带宽从而影响服务性能  \n",
    "* 这个时候就需要多一层从服务器用来缓解主服务器发送副本的压力  \n",
    "* 但是另一方面，构建中间层服务器又涉及到构造复杂的网络拓扑结构  \n",
    "* 带宽压力的解决还可以利用对网络数据的连接数据大小进行压缩传输，比如ssh就是一个不错的通道，但是需要额外配置自动重连方面的功能\n",
    "* Redis Sentinel有帮助故障转移的作用"
   ]
  },
  {
   "cell_type": "markdown",
   "metadata": {},
   "source": [
    "# 扩展写性能和内存容量"
   ]
  },
  {
   "cell_type": "markdown",
   "metadata": {},
   "source": [
    "* 尽可能的减少程序需要读取的数据量\n",
    "* 将无关的功能迁移到其他数据库\n",
    "* 在写入数据之前将数据聚合一遍\n",
    "## 通过分片扩展Redis内存容量以及写吞吐量"
   ]
  },
  {
   "cell_type": "markdown",
   "metadata": {},
   "source": [
    "# 扩展复杂的查询"
   ]
  },
  {
   "cell_type": "markdown",
   "metadata": {},
   "source": [
    "* 只读服务器是一种方法，但是要稍微注意下，有些命令会附带store功能，这时候要关闭 slave-read-only 选项，并且注意这种store只存在于单机，不会扩展到其他从服务器上\n",
    "* 按照搜索索引进行分片\n",
    "* 对时间线进行分片"
   ]
  }
 ],
 "metadata": {
  "kernelspec": {
   "display_name": "Python 3",
   "language": "python",
   "name": "python3"
  },
  "language_info": {
   "codemirror_mode": {
    "name": "ipython",
    "version": 3
   },
   "file_extension": ".py",
   "mimetype": "text/x-python",
   "name": "python",
   "nbconvert_exporter": "python",
   "pygments_lexer": "ipython3",
   "version": "3.7.1"
  },
  "toc": {
   "base_numbering": 1,
   "nav_menu": {},
   "number_sections": false,
   "sideBar": true,
   "skip_h1_title": false,
   "title_cell": "Table of Contents",
   "title_sidebar": "Contents",
   "toc_cell": false,
   "toc_position": {},
   "toc_section_display": true,
   "toc_window_display": false
  }
 },
 "nbformat": 4,
 "nbformat_minor": 2
}
