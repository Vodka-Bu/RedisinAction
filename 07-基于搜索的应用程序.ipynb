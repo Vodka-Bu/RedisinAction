{
 "cells": [
  {
   "cell_type": "markdown",
   "metadata": {},
   "source": [
    "因为暂时用不到，所以看一遍就行"
   ]
  },
  {
   "cell_type": "markdown",
   "metadata": {},
   "source": [
    "* 搜索的基本方法就是建立反向索引，对一篇文章分词以后去除停用词，剩下的词其实都对应了一个集合，将文章放入集合就可以\n",
    "* 同时需要有一个文章的集合来确定都放入了哪些索引，这样才能做到在文档更新的时候，将没用的索引删除\n",
    "* 有时候还要准备同义词文档来扩展搜索范围\n",
    "* 如果要删除某些搜索词，可以用差集的方式简单执行"
   ]
  },
  {
   "cell_type": "markdown",
   "metadata": {},
   "source": [
    "真正体现差异的应该在搜索结果排序方面"
   ]
  }
 ],
 "metadata": {
  "kernelspec": {
   "display_name": "Python 3",
   "language": "python",
   "name": "python3"
  },
  "language_info": {
   "codemirror_mode": {
    "name": "ipython",
    "version": 3
   },
   "file_extension": ".py",
   "mimetype": "text/x-python",
   "name": "python",
   "nbconvert_exporter": "python",
   "pygments_lexer": "ipython3",
   "version": "3.7.1"
  },
  "toc": {
   "base_numbering": 1,
   "nav_menu": {},
   "number_sections": false,
   "sideBar": true,
   "skip_h1_title": false,
   "title_cell": "Table of Contents",
   "title_sidebar": "Contents",
   "toc_cell": false,
   "toc_position": {},
   "toc_section_display": true,
   "toc_window_display": false
  }
 },
 "nbformat": 4,
 "nbformat_minor": 2
}
