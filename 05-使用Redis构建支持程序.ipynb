{
 "cells": [
  {
   "cell_type": "markdown",
   "metadata": {},
   "source": [
    "其实就是实现各种小功能  \n",
    "使用日志和记录器来收集当前系统的信息，挖掘正在使用系统的顾客的相关信息，将Redis用作配置信息的字典"
   ]
  },
  {
   "cell_type": "markdown",
   "metadata": {},
   "source": [
    "# 使用Redis来监控日志"
   ]
  },
  {
   "cell_type": "code",
   "execution_count": 1,
   "metadata": {},
   "outputs": [],
   "source": [
    "import logging\n",
    "import redis\n",
    "import time\n",
    "import datetime\n",
    "import bisect\n",
    "import uuid\n",
    "import contextlib\n",
    "import json\n",
    "import functools"
   ]
  },
  {
   "cell_type": "code",
   "execution_count": 2,
   "metadata": {},
   "outputs": [],
   "source": [
    "conn = redis.Redis()"
   ]
  },
  {
   "cell_type": "code",
   "execution_count": 3,
   "metadata": {},
   "outputs": [],
   "source": [
    "# 将各个等级转换成字符串\n",
    "SEVERITY = {\n",
    "    logging.DEBUG: 'debug',\n",
    "    logging.INFO: 'info',\n",
    "    logging.WARNING: 'warning',\n",
    "    logging.ERROR: 'error',\n",
    "    logging.CRITICAL: 'critical'\n",
    "}\n",
    "def log_recent(conn, name, massage, severity=logging.INFO, pipe=None):\n",
    "    \"\"\"将日志按照name和等级，放到相应的列表中，并且控制列表的长度\"\"\"\n",
    "    # 当找不到相应的等级时，str(logging.INFO) 这样的方式能够转换出一个数字字符串\n",
    "    severity = str(SEVERITY.get(severity, severity)).lower()\n",
    "    destination = 'recent:%s:%s'%(name, severity)\n",
    "    message = time.asctime() + ' ' + message\n",
    "    pipe = pipe or conn.pipeline()\n",
    "    pipe.lpush(destination, message)\n",
    "    pipe.ltrim(destination, 0, 99)\n",
    "    pipe.execute()"
   ]
  },
  {
   "cell_type": "markdown",
   "metadata": {},
   "source": [
    "## 常见日志\n",
    "纯粹的消息记录日志，没有办法告诉你哪些消息是重要的，哪些是不重要的  \n",
    "可以根据消息出现的频率来判定消息的重要性  \n",
    "其实就是做一个有序集合"
   ]
  },
  {
   "cell_type": "code",
   "execution_count": 4,
   "metadata": {},
   "outputs": [],
   "source": [
    "def log_common(conn, name, message, severity=logging.INFO, timeout=5):\n",
    "    severity = str(SEVERITY.get(severity, severity)).lower()\n",
    "    destination = 'common:%s:%s'%(name, severity)\n",
    "    start_key = destination + ':start'\n",
    "    pipe = conn.pipeline()\n",
    "    end = time.time() + timeout\n",
    "    while time.time() < end:\n",
    "        try:\n",
    "            # 还可以看一个不存在的键\n",
    "            pipe.watch(start_key)\n",
    "            # 格林尼治时间\n",
    "            now = datetime.datetime.utcnow().timetuple()\n",
    "            hour_start = datetime(*now[:4]).isoformat()\n",
    "            \n",
    "            existing = pipe.get(start_key)\n",
    "            pipe.multi()\n",
    "            # 每个小时对数据进行轮换，保留前一个小时的日志信息叫做:last\n",
    "            if existing and existing < hour_start:\n",
    "                pipe.rename(destination, destination + ':last')\n",
    "                pipe.rename(start_key, destination + ':pstart')\n",
    "                pipe.set(start_key, hour_start)\n",
    "            elif not existing:\n",
    "                pipe.set(start_key, hour_start)\n",
    "            # 对message频率+1\n",
    "            pipe.zincrby(destination, message)\n",
    "            log_recent(pipe, name, message, severity, pipe)\n",
    "            return\n",
    "        except redis.exceptions.WatchError:\n",
    "            continue"
   ]
  },
  {
   "cell_type": "markdown",
   "metadata": {},
   "source": [
    "# 计数器和统计数据\n",
    "利用hash创建一个计数器，能够得到不同时间的计数情况，时间精度也可以随之改变  \n",
    "为了对每个需要清除历史数据的计数器进行历史清除，需要有一个有序结构能让我们遍历所有计数器，此时所有值为0的有序集合是个不错的选择，因为当值都相等时，有序集合会按照成员名字的顺序进行排序，从而能够进行遍历。"
   ]
  },
  {
   "cell_type": "markdown",
   "metadata": {},
   "source": [
    "## 计数器"
   ]
  },
  {
   "cell_type": "markdown",
   "metadata": {},
   "source": [
    "### 对计数器进行更新"
   ]
  },
  {
   "cell_type": "code",
   "execution_count": 5,
   "metadata": {},
   "outputs": [],
   "source": [
    "PRECISION = [1, 5, 60, 300, 3600, 18000, 86400]\n",
    "def update_counter(conn, name, count, now=None):\n",
    "    now = now or time.time()\n",
    "    pipe = conn.pipeline()\n",
    "    for prec in PRECISION:\n",
    "        # 取得当前时间片的开始时间\n",
    "        pnow = int(now / prec) * prec\n",
    "        hash = '%s:%s'%(prec, name)\n",
    "        # 计数器可能已经在里面了，但是加一下也没关系\n",
    "        pipe.zadd('known:', hash, 0)\n",
    "        pipe.incrby('count:' + hash, pnow, count)\n",
    "    pipe.execute()"
   ]
  },
  {
   "cell_type": "markdown",
   "metadata": {},
   "source": [
    "### 获得计数器信息"
   ]
  },
  {
   "cell_type": "code",
   "execution_count": 6,
   "metadata": {},
   "outputs": [],
   "source": [
    "# 获得相关计数器的信息\n",
    "def get_counter(conn, name, precision):\n",
    "    hash = '%s:%s'%(precision, name)\n",
    "    data = conn.hgetall('count:' + hash)\n",
    "    to_return = list()\n",
    "    for key, value in data.items():\n",
    "        to_return.append((int(key), int(value)))\n",
    "    to_return.sort()\n",
    "    return to_return"
   ]
  },
  {
   "cell_type": "markdown",
   "metadata": {},
   "source": [
    "### 清理计数器信息\n",
    "不适用EXPIRE，正如之前的发现的，EXPIRE只能设定一个键，不能对键中的某一部分数据进行设置  \n",
    "但是在自己写守护进程的时候，需要注意一下情况:\n",
    "* 任何时候都会有新的计数器被添加进来\n",
    "* 同一时间可能会有多个清理程序在执行\n",
    "* 清理某个计数器的时间间隔，肯定大于计数器本身的时间分片间隔，不然仅仅是浪费资源\n",
    "* 如果一个计数器不包含任何数据，就肯定不需要对其进行清理"
   ]
  },
  {
   "cell_type": "code",
   "execution_count": 7,
   "metadata": {},
   "outputs": [],
   "source": [
    "QUIT = False\n",
    "SAMPLE_COUNT = 120\n",
    "def clean_counters(conn):\n",
    "    pipe = conn.pipeline(True)\n",
    "    # 记录清理次数\n",
    "    passes = 0\n",
    "    while not QUIT:\n",
    "        start = time.time()\n",
    "        index = 0\n",
    "        while index < conn.zcard('known:'):\n",
    "            hash = conn.zrange('known:', index, index)\n",
    "            index += 1\n",
    "            if not hash:\n",
    "                break\n",
    "            hash = hash[0]\n",
    "            # 取得计数器的精度\n",
    "            prec = int(hash.partition(':')[0])\n",
    "            # 取得计数器的清理频率\n",
    "            bprec = int(prec // 60) or 2\n",
    "            if passes % bprec:\n",
    "                # 因为passes定义了一分钟做一次，所以由此可以确定某一个计数器在这一轮pass中是否需要清理\n",
    "                continue\n",
    "            \n",
    "            hkey = 'count:'+ hash\n",
    "            cutoff = time.time() - SAMPLE_COUNT * prec\n",
    "            samples = map(int, conn.hkeys(hkey))\n",
    "            # 计数器的键其实是没有被排序过的\n",
    "            smaples.sort()\n",
    "            # 通过bisect来确定要被移除的\n",
    "            remove = bisect.bisect_right(samples, cutoff)\n",
    "            \n",
    "            if remove:\n",
    "                conn.hdel(hkey, *samples[:remove])\n",
    "                # 这个散列可能已经被清空了，因为清掉了所有数据\n",
    "                if remove == len(samples):\n",
    "                    try:\n",
    "                        pipe.watch(hkey)\n",
    "                        if not pipe.hlen(hkey):\n",
    "                            pipe.multi()\n",
    "                            pipe.zrem('known:', hash)\n",
    "                            pipe.execute()\n",
    "                            index -= 1\n",
    "                        else:\n",
    "                            pipe.unwatch()\n",
    "                    except redis.exceptions.WatchError:\n",
    "                        pass\n",
    "            passes += 1\n",
    "            duration = min(int(time.time() - start) + 1, 60)\n",
    "            time.sleep(max(60 - duration), 1)"
   ]
  },
  {
   "cell_type": "markdown",
   "metadata": {},
   "source": [
    "## 使用Redis存储统计数据\n",
    "统计信息的存储其实可以是有序集合，虽然存储的是一个个信息，但是有序集合有助于在与其他有序集合做交集并集的时候的聚合计算"
   ]
  },
  {
   "cell_type": "code",
   "execution_count": 8,
   "metadata": {},
   "outputs": [],
   "source": [
    "def update_stats(conn, context, type, value, timeout=5):\n",
    "    # 用于存储的统计量\n",
    "    destination = 'stats:%s:%s'%(context, type) \n",
    "    # 处理当前这一个小时的数据和上一个小时的数据。\n",
    "    start_key = destination + ':start'\n",
    "    pipe = conn.pipeline(True)\n",
    "    end = time.time() + timeout\n",
    "    while time.time() < end:\n",
    "        try:\n",
    "            pipe.watch(start_key) \n",
    "            now = datetime.utcnow().timetuple() \n",
    "            hour_start = datetime(*now[:4]).isoformat() \n",
    "\n",
    "            existing = pipe.get(start_key)\n",
    "            pipe.multi()\n",
    "            if existing and existing < hour_start:\n",
    "                pipe.rename(destination, destination + ':last') \n",
    "                pipe.rename(start_key, destination + ':pstart') \n",
    "                pipe.set(start_key, hour_start)\n",
    "            tkey1 = str(uuid.uuid4())\n",
    "            tkey2 = str(uuid.uuid4())\n",
    "            # 将值添加到临时键里面。\n",
    "            pipe.zadd(tkey1, 'min', value)\n",
    "            pipe.zadd(tkey2, 'max', value)                     \n",
    "            # 使用合适聚合函数MIN和MAX，\n",
    "            # 对存储统计数据的键和两个临时键进行并集计算。\n",
    "            pipe.zunionstore(destination,                     \n",
    "                [destination, tkey1], aggregate='min')          \n",
    "            pipe.zunionstore(destination,                      \n",
    "                [destination, tkey2], aggregate='max')        \n",
    "\n",
    "            # 删除临时键。\n",
    "            pipe.delete(tkey1, tkey2)                           \n",
    "            # 对有序集合中的样本数量、值的和、值的平方之和三个成员进行更新。\n",
    "            pipe.zincrby(destination, 'count')                  \n",
    "            pipe.zincrby(destination, 'sum', value)            \n",
    "            pipe.zincrby(destination, 'sumsq', value*value)    \n",
    "\n",
    "            # 返回基本的计数信息，以便函数调用者在有需要时做进一步的处理。\n",
    "            return pipe.execute()[-3:]                        \n",
    "        except redis.exceptions.WatchError:\n",
    "            # 如果新的一个小时已经开始，并且旧的数据已经被归档，那么进行重试。\n",
    "            continue                                           "
   ]
  },
  {
   "cell_type": "code",
   "execution_count": 9,
   "metadata": {},
   "outputs": [],
   "source": [
    "def get_status(conn, context, type):\n",
    "    key = 'status:%s:%s'%(context, type)\n",
    "    data = dict(conn.zrange(key, 0, -1, withscores=True))\n",
    "    # 额外算出平均值\n",
    "    data['average'] = data['sum'] / data['count']\n",
    "    # 计算标准差的第一个步骤\n",
    "    numerator = data['sumsq'] - data['sum'] ** 2 / data['count']\n",
    "    data['stddev'] = (numerator / (data['count'] - 1 or 1)) ** .5\n",
    "    return data"
   ]
  },
  {
   "cell_type": "markdown",
   "metadata": {},
   "source": [
    "### 简化统计数据的记录与发现(*)"
   ]
  },
  {
   "cell_type": "markdown",
   "metadata": {},
   "source": [
    "利用装饰器直接实现计时功能并将最慢的100个页面存储在数据结构内"
   ]
  },
  {
   "cell_type": "code",
   "execution_count": 10,
   "metadata": {
    "scrolled": true
   },
   "outputs": [],
   "source": [
    "# 将这个Python生成器用作上下文管理器。\n",
    "@contextlib.contextmanager                                            \n",
    "def access_time(conn, context):\n",
    "    # 记录代码块执行前的时间。\n",
    "    start = time.time()                                               \n",
    "    # 运行被包裹的代码块。\n",
    "    yield                                                              \n",
    "\n",
    "    # 计算代码块的执行时长。\n",
    "    delta = time.time() - start                                        \n",
    "    # 更新这一上下文的统计数据。\n",
    "    stats = update_stats(conn, context, 'AccessTime', delta)           \n",
    "    # 计算页面的平均访问时长。\n",
    "    average = stats[1] / stats[0]                                      \n",
    "\n",
    "    pipe = conn.pipeline(True)\n",
    "    # 将页面的平均访问时长添加到记录最慢访问时间的有序集合里面。\n",
    "    pipe.zadd('slowest:AccessTime', context, average)                 \n",
    "    # AccessTime有序集合只会保留最慢的100条记录。\n",
    "    pipe.zremrangebyrank('slowest:AccessTime', 0, -101)                \n",
    "    pipe.execute()"
   ]
  },
  {
   "cell_type": "markdown",
   "metadata": {},
   "source": [
    "contextlib.contextmanager: 包装一个生成器带 yield， yield之前的语句在真正函数运行之前完成，之后的函数在函数运行之后完成，有点合并两个装饰器的感觉"
   ]
  },
  {
   "cell_type": "code",
   "execution_count": 11,
   "metadata": {},
   "outputs": [],
   "source": [
    "@contextlib.contextmanager\n",
    "def foo():\n",
    "    start = time.time()\n",
    "    yield\n",
    "    delta = int(time.time() - start)\n",
    "    print(delta)"
   ]
  },
  {
   "cell_type": "code",
   "execution_count": 12,
   "metadata": {},
   "outputs": [
    {
     "name": "stdout",
     "output_type": "stream",
     "text": [
      "1\n"
     ]
    }
   ],
   "source": [
    "with foo():\n",
    "    time.sleep(1)"
   ]
  },
  {
   "cell_type": "code",
   "execution_count": 13,
   "metadata": {},
   "outputs": [],
   "source": [
    "def process_view(conn, callback):             \n",
    "    # 计算并记录访问时长的上下文管理器就是这样包围代码块的。\n",
    "    with access_time(conn, request.path):     \n",
    "        # 当上下文管理器中的yield语句被执行时，这个语句就会被执行。\n",
    "        return callback()           "
   ]
  },
  {
   "cell_type": "markdown",
   "metadata": {},
   "source": [
    "# 查找IP所属城市以及国家\n",
    "一系列用于分析和载入IP所属地数据库的函数  \n",
    "之所以用redis不用数据库，是因为redis在查找速度上更具优势  \n",
    "需要用到两张表: 根据IP地址查找城市ID， 通过ID查找城市的详细信息"
   ]
  },
  {
   "cell_type": "code",
   "execution_count": 14,
   "metadata": {},
   "outputs": [],
   "source": [
    "def ip_to_score(ip_address):\n",
    "    score = 0\n",
    "    for v in ip_address.split('.'):\n",
    "        score = score * 256 + int(v, 10)\n",
    "    return score"
   ]
  },
  {
   "cell_type": "code",
   "execution_count": 15,
   "metadata": {},
   "outputs": [],
   "source": [
    "def import_ips_to_redis(conn, filename):\n",
    "    csv_file = csv.reader(open(filename, 'rb'))\n",
    "    for count, row in enumerate(csv_file):\n",
    "        # 按需将IP地址转换为分值。\n",
    "        start_ip = row[0] if row else ''             \n",
    "        if 'i' in start_ip.lower():\n",
    "            continue\n",
    "        if '.' in start_ip:                            \n",
    "            start_ip = ip_to_score(start_ip)           \n",
    "        elif start_ip.isdigit():                       \n",
    "            start_ip = int(start_ip, 10)               \n",
    "        else:\n",
    "            # 略过文件的第一行以及格式不正确的条目。\n",
    "            continue                                  \n",
    "\n",
    "        # 构建唯一城市ID。\n",
    "        city_id = row[2] + '_' + str(count)            \n",
    "        # 将城市ID及其对应的IP地址分值添加到有序集合里面。\n",
    "        # 这里会比在数据库查询好很多，因为有有序集合，所以用 score 就行\n",
    "        conn.zadd('ip2cityid:', city_id, start_ip)"
   ]
  },
  {
   "cell_type": "code",
   "execution_count": 16,
   "metadata": {},
   "outputs": [],
   "source": [
    "def import_cities_to_redis(conn, filename):  \n",
    "    for row in csv.reader(open(filename, 'rb')):\n",
    "        if len(row) < 4 or not row[0].isdigit():\n",
    "            continue\n",
    "        row = [i.decode('latin-1') for i in row]\n",
    "        # 准备好需要添加到散列里面的信息。\n",
    "        city_id = row[0]                          \n",
    "        country = row[1]                           \n",
    "        region = row[2]                            \n",
    "        city = row[3]                             \n",
    "        # 将城市信息添加到Redis里面。\n",
    "        conn.hset('cityid2city:', city_id, \n",
    "            json.dumps([city, region, country])) "
   ]
  },
  {
   "cell_type": "code",
   "execution_count": 17,
   "metadata": {},
   "outputs": [],
   "source": [
    "def find_city_by_ip(conn, ip_address):\n",
    "    # 将IP地址转换为分值以便执行ZREVRANGEBYSCORE命令。\n",
    "    if isinstance(ip_address, str):                        \n",
    "        ip_address = ip_to_score(ip_address)               \n",
    "\n",
    "    # 查找唯一城市ID。\n",
    "    city_id = conn.zrevrangebyscore(                       \n",
    "        'ip2cityid:', ip_address, 0, start=0, num=1)       \n",
    "\n",
    "    if not city_id:\n",
    "        return None\n",
    "\n",
    "    # 将唯一城市ID转换为普通城市ID。\n",
    "    city_id = city_id[0].partition('_')[0]                 \n",
    "    # 从散列里面取出城市信息。\n",
    "    return json.loads(conn.hget('cityid2city:', city_id))  \n"
   ]
  },
  {
   "cell_type": "markdown",
   "metadata": {},
   "source": [
    "# 服务的发现与配置\n",
    "就可以将很多配置信息转移到redis当中，通过访问redis来更改相关配置信息  \n",
    "其实就是充当一个信息共享的平台，普通数据库其实也能做到，但是普通数据库只存储一个值得话总觉得怪怪的，配置文件毕竟大部分都是dict  \n",
    "好处就是当更改配置信息时，服务不需要重启"
   ]
  },
  {
   "cell_type": "markdown",
   "metadata": {},
   "source": [
    "应用举例：获取是否正在维护这个状态"
   ]
  },
  {
   "cell_type": "code",
   "execution_count": 18,
   "metadata": {},
   "outputs": [],
   "source": [
    "LAST_CHECKED = None\n",
    "IS_UNDER_MAINTENANCE = False\n",
    "\n",
    "def is_under_maintenance(conn):\n",
    "    # 将两个变量设置为全局变量以便在之后对它们进行写入。\n",
    "    global LAST_CHECKED, IS_UNDER_MAINTENANCE\n",
    "    # 距离上次检查是否已经超过1秒钟？\n",
    "    if LAST_CHECKED < time.time() - 1:          \n",
    "        # 更新最后检查时间。\n",
    "        LAST_CHECKED = time.time()              \n",
    "        # 检查系统是否正在进行维护。\n",
    "        IS_UNDER_MAINTENANCE = bool(            \n",
    "            conn.get('is-under-maintenance'))   \n",
    "    # 返回一个布尔值，用于表示系统是否正在进行维护。\n",
    "    return IS_UNDER_MAINTENANCE"
   ]
  },
  {
   "cell_type": "markdown",
   "metadata": {},
   "source": [
    "## 为每个应用程序组件分别配置一个Redis服务器\n",
    "同时可以用一个redis来记录所有其他redis服务器的相关信息"
   ]
  },
  {
   "cell_type": "code",
   "execution_count": 19,
   "metadata": {},
   "outputs": [],
   "source": [
    "def set_config(conn, type, component, config):\n",
    "    conn.set(\n",
    "        'config:%s:%s'%(type, component),\n",
    "        json.dumps(config))"
   ]
  },
  {
   "cell_type": "code",
   "execution_count": 20,
   "metadata": {},
   "outputs": [],
   "source": [
    "CONFIGS = {}\n",
    "CHECKED = {}\n",
    "\n",
    "def get_config(conn, type, component, wait=1):\n",
    "    key = 'config:%s:%s'%(type, component)\n",
    "\n",
    "    # 检查是否需要对这个组件的配置信息进行更新。\n",
    "    if CHECKED.get(key) < time.time() - wait:     \n",
    "        # 有需要对配置进行更新，记录最后一次检查这个连接的时间。\n",
    "        CHECKED[key] = time.time() \n",
    "        # 取得Redis存储的组件配置。\n",
    "        config = json.loads(conn.get(key) or '{}')    \n",
    "        # 将潜在的Unicode关键字参数转换为字符串关键字参数。\n",
    "        config = dict((str(k), config[k]) for k in config)\n",
    "        # 取得组件正在使用的配置。\n",
    "        old_config = CONFIGS.get(key)                  \n",
    "\n",
    "        # 如果两个配置并不相同……\n",
    "        if config != old_config:                    \n",
    "            # ……那么对组件的配置进行更新。\n",
    "            CONFIGS[key] = config                     \n",
    "    return CONFIGS.get(key)"
   ]
  },
  {
   "cell_type": "markdown",
   "metadata": {},
   "source": [
    "## 自动Redis连接管理\n",
    "利用装饰器来做连接redis的操作"
   ]
  },
  {
   "cell_type": "code",
   "execution_count": 21,
   "metadata": {},
   "outputs": [],
   "source": [
    "REDIS_CONNECTIONS = {}\n",
    "\n",
    "# 将应用组件的名字传递给装饰器。\n",
    "# 这个装饰器还是带参数的\n",
    "def redis_connection(component, wait=1):\n",
    "    # 因为函数每次被调用都需要获取这个配置键，所以我们干脆把它缓存起来。\n",
    "    key = 'config:redis:' + component                       \n",
    "    # 包装器接受一个函数作为参数，并使用另一个函数来包裹这个函数。\n",
    "    def wrapper(function):                              \n",
    "        # 将被包裹函数里的一些有用的元数据复制到配置处理器。\n",
    "        @functools.wraps(function)                      \n",
    "        # 创建负责管理连接信息的函数。\n",
    "        def call(*args, **kwargs):                      \n",
    "            # 如果有旧配置存在，那么获取它。\n",
    "            old_config = CONFIGS.get(key, object())     \n",
    "            # 如果有新配置存在，那么获取它。\n",
    "            _config = get_config(                   \n",
    "                config_connection, 'redis', component, wait)\n",
    "\n",
    "            config = {}\n",
    "            # 对配置进行处理并将其用于创建Redis连接。\n",
    "            for k, v in _config.iteritems():            \n",
    "                config[k.encode('utf-8')] = v               \n",
    "\n",
    "            # 如果新旧配置并不相同，那么创建新的连接。\n",
    "            if config != old_config:                        \n",
    "                REDIS_CONNECTIONS[key] = redis.Redis(**config) \n",
    "\n",
    "            # 将Redis连接以及其他匹配的参数传递给被包裹函数，然后调用函数并返回执行结果。\n",
    "            return function(                                    \n",
    "                REDIS_CONNECTIONS.get(key), *args, **kwargs)\n",
    "        # 返回被包裹的函数。\n",
    "        return call                                         \n",
    "    # 返回用于包裹Redis函数的包装器。\n",
    "    return wrapper                            "
   ]
  }
 ],
 "metadata": {
  "kernelspec": {
   "display_name": "Python 3",
   "language": "python",
   "name": "python3"
  },
  "language_info": {
   "codemirror_mode": {
    "name": "ipython",
    "version": 3
   },
   "file_extension": ".py",
   "mimetype": "text/x-python",
   "name": "python",
   "nbconvert_exporter": "python",
   "pygments_lexer": "ipython3",
   "version": "3.7.1"
  },
  "toc": {
   "base_numbering": 1,
   "nav_menu": {},
   "number_sections": false,
   "sideBar": true,
   "skip_h1_title": false,
   "title_cell": "Table of Contents",
   "title_sidebar": "Contents",
   "toc_cell": false,
   "toc_position": {},
   "toc_section_display": true,
   "toc_window_display": false
  }
 },
 "nbformat": 4,
 "nbformat_minor": 2
}
