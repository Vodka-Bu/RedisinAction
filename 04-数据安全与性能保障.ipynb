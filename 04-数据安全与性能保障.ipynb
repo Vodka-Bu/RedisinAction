{
 "cells": [
  {
   "cell_type": "markdown",
   "metadata": {},
   "source": [
    "# 持久化选项\n",
    "通过两种持久化方法：\n",
    "* 快照\n",
    "* 只追加文件 AOF append only file"
   ]
  },
  {
   "cell_type": "markdown",
   "metadata": {},
   "source": [
    "## 快照持久化"
   ]
  },
  {
   "cell_type": "markdown",
   "metadata": {},
   "source": [
    "### 创建快照的几种方法\n",
    "* 客户端可以通过向redis发送BGSAVE命令来创建一个快照，此时会fork一个子进程来做存储的动作\n",
    "* SAVE 不会用子进程，因此会使客户端不再相应命令，一般不常用，除非内存不够用\n",
    "* 设置 save 配置选项: save 60 10000 指的是 当60秒内有10000次写入时，执行以下BGSAVE\n",
    "* SHUTDOWN 会执行SAVE\n",
    "* 当一个redis服务器连接另一个redis服务器，并向对方发送SYNC"
   ]
  },
  {
   "cell_type": "markdown",
   "metadata": {},
   "source": [
    "### 几个适合快照的场景\n",
    "* 个人开发\n",
    "    * 例如设置 900 1 指的是900秒内如果有1条数据，则保存快照，如果没有，则在900秒后有一条数据进来就保存快照\n",
    "* 对日志进行聚合计算\n",
    "    * 首先确定日志丢失的可容忍程度，来决定存储快照的时间间隔\n",
    "    * 需要恢复日志处理操作，知道存储快照时处理到了什么时候进度，此时需要知道被处理的文件和偏移量"
   ]
  },
  {
   "cell_type": "code",
   "execution_count": 1,
   "metadata": {},
   "outputs": [],
   "source": [
    "import os\n",
    "import redis\n",
    "conn = redis.Redis()"
   ]
  },
  {
   "cell_type": "code",
   "execution_count": 2,
   "metadata": {},
   "outputs": [],
   "source": [
    "def process_logs(conn, path, callback):\n",
    "    # 获得当前的文档和offset\n",
    "    current_file, offset = conn.mget('progress:file', 'progress:position')\n",
    "    pipe = conn.pipeline()\n",
    "    def update_progress():\n",
    "        pipe.mset({\n",
    "            'progress:file': fname,\n",
    "            'progress:position': offset\n",
    "        })\n",
    "        pipe.execute()\n",
    "    \n",
    "    for fname in sorted(os.listdir(path)):\n",
    "        if fname < current_file:\n",
    "            continue\n",
    "        with open(os.path.join(path, fname), 'rb') as inp:\n",
    "            # 当是本文件，则从offset开始，否则从0开始\n",
    "            if fname == current_file:\n",
    "                inp.seek(int(offset, 10))\n",
    "            else:\n",
    "                offset = 0\n",
    "            current_file = None\n",
    "            for lno, line in enumerate(inp):\n",
    "                callback(pipe, line)\n",
    "                # offset指的是字符串的长度\n",
    "                offset += int(offset) + len(line)\n",
    "                if not (lno + 1) % 1000:\n",
    "                    # 每1000行更新一下进度\n",
    "                    update_grogress()\n",
    "            update_progress()\n",
    "            "
   ]
  },
  {
   "cell_type": "markdown",
   "metadata": {},
   "source": [
    "### 大数据时\n",
    "当数据量很大时，光创建子进程可能就要花去好多时间，如果内存不够用，可以选择关掉自动存快照，通过手动在不常用时间段 SAVE 的形式存储"
   ]
  },
  {
   "cell_type": "markdown",
   "metadata": {},
   "source": [
    "## AOF持久化"
   ]
  },
  {
   "cell_type": "markdown",
   "metadata": {},
   "source": [
    "* appendfsync: [always, everysec, no] 一般只推荐 everysec  \n",
    "* AOF的问题就是，文件体积的大小，以及执行起来耗时间\n",
    "    * 可以通过 BGREWRITEAOF 方法来去除冗余的命令\n",
    "* 配置属性：auto-aof-rewrite-percentage / auto-aof-rewrite-min-size"
   ]
  },
  {
   "cell_type": "markdown",
   "metadata": {},
   "source": [
    "# 复制"
   ]
  },
  {
   "cell_type": "markdown",
   "metadata": {},
   "source": [
    "数据副本服务器处理客户端发送的读请求  \n",
    "还需要检验硬盘写入"
   ]
  },
  {
   "cell_type": "markdown",
   "metadata": {},
   "source": [
    "# 处理系统故障"
   ]
  },
  {
   "cell_type": "markdown",
   "metadata": {},
   "source": [
    "* 验证快照和\n",
    "* 主从切换/替换"
   ]
  },
  {
   "cell_type": "markdown",
   "metadata": {
    "collapsed": true
   },
   "source": [
    "# Redis 事务"
   ]
  },
  {
   "cell_type": "markdown",
   "metadata": {},
   "source": [
    "在多个客户端同时处理相同的数据时，不谨慎的操作很容易导致数据出错。  \n",
    "事务可以防止出错，并且还可以提升性能（延迟一次性提交，减少通信次数）。  \n",
    "现在需要设计和实现一个商品买卖市场的方法  \n",
    "## 数据结构\n",
    "* 用户： Hash 包含用户的基本信息\n",
    "* 用户包裹： Hash 包含所有商品\n",
    "* 市场： Zset 成员：商品id + 所属者， 分值：价格"
   ]
  },
  {
   "cell_type": "markdown",
   "metadata": {},
   "source": [
    "### 命令  \n",
    "* WATCH： 表示监视某一个键，在MULTI前调用，如果在事务过程中该键有改动，服务器也不会马上返回改动信息，而是将该客户端的multi_dirty_cas 属性打开，代表处理的事务已经不安全了，接下来客户端在执行EXEC的时候，服务器先检查redis_dirty_cas，如果发现选项被打开，则返回WatchError，代表事务执行失败。    \n",
    "* UNWATCH: WATCH会一直有效到下一个EXEC出现，但是有些时候事务执行不会出现EXEC（比如先做了一个条件判断发现条件不满足，就不执行了），此时为了不影响接下来的事务，需要调用UNWATCH来取消所有监视。\n",
    "* DISCARD: 删除整个事务相关的内容，包括WATCH的设定"
   ]
  },
  {
   "cell_type": "code",
   "execution_count": 3,
   "metadata": {},
   "outputs": [],
   "source": [
    "def list_items(conn, itemid, sellerid, price):\n",
    "    \"\"\"将商品放入市场的过程\"\"\"\n",
    "    # 商人的包裹\n",
    "    inventory = 'inventory:%s'%sellerid\n",
    "    item = '%s.%s'%(itemid, sellerid)\n",
    "    end = time.time() + 5\n",
    "    pipe = conn.pipeline()\n",
    "    while time.time() < end:\n",
    "        try:\n",
    "            # 开始监视商人的包裹，WATCH的出发，其实就意味着事务的开始\n",
    "            # 在内部代码中 excute会对stack_commands进行打包，也就是在前后加上 MULTI 和 EXEC\n",
    "            # 但是当WATCH方法被调用以后，在pipe.multi被调用以前的所有命令，并不会进入 stack_commands而是会直接执行\n",
    "            pipe.watch(inventory)\n",
    "            # 此时还没有进入事务模式，sismember还是事实返回的\n",
    "            if not pipe.sismember(inventory, itemid):\n",
    "                # 当 inventory 已经没有该物品了时，程序返回None\n",
    "                pipe.unwatch()\n",
    "                return None\n",
    "            # 在调用了WATCH命令以后，必须有这么一个 multi方法，告诉程序接下来的命令需要被放进 stack_commonds里接受打包了\n",
    "            # 如果是WatchError，说明在事务过程中这个键被动过，但是不代表这个键的这个商品被动过，因此需要循环\n",
    "            pipe.multi()\n",
    "            pipe.zadd('market:', item, price)\n",
    "            pipe.srem(inventory, itemid)\n",
    "            # 执行以后\n",
    "            pipe.excute()\n",
    "            return True\n",
    "        except redis.Exception.WatchError:\n",
    "            # 再次循环尝试，直到5秒过后\n",
    "            pass\n",
    "    # 5 秒过后还没有删除成功，返回False\n",
    "    return False"
   ]
  },
  {
   "cell_type": "markdown",
   "metadata": {},
   "source": [
    "## 购买商品"
   ]
  },
  {
   "cell_type": "code",
   "execution_count": 4,
   "metadata": {},
   "outputs": [],
   "source": [
    "def purchase_item(conn, buyerid, itemid, sellerid, lprice):\n",
    "    buyer = 'users:%s'%buyerid\n",
    "    seller = 'users:%s'%sellerid\n",
    "    item = '%s.%s'%(itemid, sellerid)\n",
    "    inventory = 'inventory:%s'%buyerid\n",
    "    end = time.time() + 10\n",
    "    pipe = conn.pipeline()\n",
    "    \n",
    "    while time.time() < end:\n",
    "        try:\n",
    "            # 需要对两个：市场和买家，都进行监视\n",
    "            pipe.watch('market:', buyer)\n",
    "            \n",
    "            price = pipe.zscore(\"market:\", item)\n",
    "            funds = int(pipe.hget(buyer, 'funds'))\n",
    "            # 当两者的价格不相等，则终止交易\n",
    "            if price != lprice or price > funds:\n",
    "                pipe.unwatch()\n",
    "                return None\n",
    "            \n",
    "            pipe.multi()\n",
    "            pipe.hincrby(seller, 'funds', int(price))\n",
    "            pipe.hincrby(buyer, 'funds', int(-price))\n",
    "            pipe.sadd(inventory, itemid)\n",
    "            pipe.zrem('market:', item)\n",
    "            pipe.excute()\n",
    "            return True\n",
    "        except redis.exceptions.WatchError:\n",
    "            pass\n",
    "    return False"
   ]
  },
  {
   "cell_type": "markdown",
   "metadata": {},
   "source": [
    "### 为什么redis没有实现加锁\n",
    "* 加锁会阻塞别的客户端，很有可能造成长时间的等待\n",
    "* 所以redis的watch方式可以减少大部分客户端的等待时间\n",
    "* redis这种加锁方式交乐观锁，就属于失败了大不了重来\n",
    "* 数据库的加锁方式叫做悲观锁\n",
    "\n",
    "### pipe.multi 存在的意义\n",
    "* 在内部代码中 excute会对stack_commands进行打包，也就是在前后加上 MULTI 和 EXEC\n",
    "* 但是当WATCH方法被调用以后，在pipe.multi被调用以前的所有命令，并不会进入 stack_commands而是会直接执行\n",
    "* 在调用了WATCH命令以后，必须有这么一个 multi 方法，告诉程序接下来的命令需要被放进 stack_commonds里接受打包了"
   ]
  },
  {
   "cell_type": "markdown",
   "metadata": {},
   "source": [
    "# 非事务性流水线"
   ]
  },
  {
   "cell_type": "markdown",
   "metadata": {},
   "source": [
    "虽然不是事务，但是流水线能够一次性将数据提交给服务器，减少两者之间的通信时间，所以也是能提高效率的    "
   ]
  },
  {
   "cell_type": "code",
   "execution_count": 5,
   "metadata": {},
   "outputs": [],
   "source": [
    "# 使用非事务流水线的update_token\n",
    "def update_token_pipeline(conn, token, user, item=None):\n",
    "    timestamp = time.time()\n",
    "    pipe = conn.pipeline(False)\n",
    "    pipe.hset('login:', token, user)\n",
    "    pipe.zadd('recent:', token, timestamp)\n",
    "    if item:\n",
    "        pipe.zadd('viewed:' + token, item, timestamp)\n",
    "        pipe.zremrangebyrank('viewed' + token, 0, -26)\n",
    "        pipe.zincrby('viewed:', item, -1)\n",
    "    pipe.excute()"
   ]
  },
  {
   "cell_type": "markdown",
   "metadata": {},
   "source": [
    "以上的优化会带来4-5倍的上升，取决于网络速度"
   ]
  },
  {
   "cell_type": "markdown",
   "metadata": {},
   "source": [
    "# 性能方面的注意事项"
   ]
  },
  {
   "cell_type": "markdown",
   "metadata": {},
   "source": [
    "可以通过 redis-benchmark 来直到自己的redis的性能特征，展现了在一秒内能够调用多少次一些常见的命令  \n",
    "但是这里benchmark不会去处理返回过来的信息，所以整个性能测试是偏乐观的，同时也没有关网络方面的内容"
   ]
  },
  {
   "cell_type": "markdown",
   "metadata": {},
   "source": [
    "* 性能的50%-60%: 没有使用流水线\n",
    "* 性能的20%-30%/cannot assign requested address: 为每个命令创建了新的连接(python 内部自带池)"
   ]
  }
 ],
 "metadata": {
  "kernelspec": {
   "display_name": "Python 3",
   "language": "python",
   "name": "python3"
  },
  "language_info": {
   "codemirror_mode": {
    "name": "ipython",
    "version": 3
   },
   "file_extension": ".py",
   "mimetype": "text/x-python",
   "name": "python",
   "nbconvert_exporter": "python",
   "pygments_lexer": "ipython3",
   "version": "3.7.1"
  },
  "toc": {
   "base_numbering": 1,
   "nav_menu": {},
   "number_sections": false,
   "sideBar": true,
   "skip_h1_title": false,
   "title_cell": "Table of Contents",
   "title_sidebar": "Contents",
   "toc_cell": false,
   "toc_position": {},
   "toc_section_display": "block",
   "toc_window_display": false
  },
  "varInspector": {
   "cols": {
    "lenName": 16,
    "lenType": 16,
    "lenVar": 40
   },
   "kernels_config": {
    "python": {
     "delete_cmd_postfix": "",
     "delete_cmd_prefix": "del ",
     "library": "var_list.py",
     "varRefreshCmd": "print(var_dic_list())"
    },
    "r": {
     "delete_cmd_postfix": ") ",
     "delete_cmd_prefix": "rm(",
     "library": "var_list.r",
     "varRefreshCmd": "cat(var_dic_list()) "
    }
   },
   "types_to_exclude": [
    "module",
    "function",
    "builtin_function_or_method",
    "instance",
    "_Feature"
   ],
   "window_display": false
  }
 },
 "nbformat": 4,
 "nbformat_minor": 2
}
